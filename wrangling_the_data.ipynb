{
 "cells": [
  {
   "cell_type": "code",
   "execution_count": 1,
   "id": "df231f2a",
   "metadata": {},
   "outputs": [],
   "source": [
    "import pandas as pd\n",
    "import matplotlib.pyplot as plt\n",
    "import warnings\n",
    "warnings.filterwarnings('ignore')"
   ]
  },
  {
   "cell_type": "code",
   "execution_count": 2,
   "id": "04587808",
   "metadata": {},
   "outputs": [],
   "source": [
    "df = pd.read_csv('/Users/omoyeniogundipe/Library/Mobile Documents/com~apple~CloudDocs/school /Udacity nanodegree/workspace/Fortune 1000 Companies by Revenue.csv')"
   ]
  },
  {
   "cell_type": "code",
   "execution_count": 3,
   "id": "c356b383",
   "metadata": {},
   "outputs": [
    {
     "data": {
      "text/plain": [
       "Index(['rank ', 'name ', 'revenues ', 'revenue_percent_change', 'profits ',\n",
       "       'profits_percent_change', 'assets', 'market_value ', 'change_in_rank',\n",
       "       'employees '],\n",
       "      dtype='object')"
      ]
     },
     "execution_count": 3,
     "metadata": {},
     "output_type": "execute_result"
    }
   ],
   "source": [
    "df.columns"
   ]
  },
  {
   "cell_type": "code",
   "execution_count": 13,
   "id": "ff506bbf",
   "metadata": {},
   "outputs": [
    {
     "data": {
      "text/html": [
       "<div>\n",
       "<style scoped>\n",
       "    .dataframe tbody tr th:only-of-type {\n",
       "        vertical-align: middle;\n",
       "    }\n",
       "\n",
       "    .dataframe tbody tr th {\n",
       "        vertical-align: top;\n",
       "    }\n",
       "\n",
       "    .dataframe thead th {\n",
       "        text-align: right;\n",
       "    }\n",
       "</style>\n",
       "<table border=\"1\" class=\"dataframe\">\n",
       "  <thead>\n",
       "    <tr style=\"text-align: right;\">\n",
       "      <th></th>\n",
       "      <th>rank</th>\n",
       "      <th>name</th>\n",
       "      <th>revenues</th>\n",
       "      <th>revenue_percent_change</th>\n",
       "      <th>profits</th>\n",
       "      <th>profits_percent_change</th>\n",
       "      <th>assets</th>\n",
       "      <th>market_value</th>\n",
       "      <th>change_in_rank</th>\n",
       "      <th>employees</th>\n",
       "    </tr>\n",
       "  </thead>\n",
       "  <tbody>\n",
       "    <tr>\n",
       "      <th>497</th>\n",
       "      <td>498</td>\n",
       "      <td>ARKO</td>\n",
       "      <td>6412.6</td>\n",
       "      <td>88.10</td>\n",
       "      <td>59.20</td>\n",
       "      <td>348.90</td>\n",
       "      <td>2942.3</td>\n",
       "      <td>1133.90</td>\n",
       "      <td>183</td>\n",
       "      <td>11236</td>\n",
       "    </tr>\n",
       "    <tr>\n",
       "      <th>651</th>\n",
       "      <td>652</td>\n",
       "      <td>Iron Mountain</td>\n",
       "      <td>4491.5</td>\n",
       "      <td>8.30</td>\n",
       "      <td>450.20</td>\n",
       "      <td>31.40</td>\n",
       "      <td>14450.0</td>\n",
       "      <td>16059.50</td>\n",
       "      <td>-47</td>\n",
       "      <td>25000</td>\n",
       "    </tr>\n",
       "    <tr>\n",
       "      <th>711</th>\n",
       "      <td>712</td>\n",
       "      <td>GoDaddy</td>\n",
       "      <td>3815.7</td>\n",
       "      <td>15</td>\n",
       "      <td>242.30</td>\n",
       "      <td>-</td>\n",
       "      <td>7417.1</td>\n",
       "      <td>14018.70</td>\n",
       "      <td>-15</td>\n",
       "      <td>6611</td>\n",
       "    </tr>\n",
       "    <tr>\n",
       "      <th>898</th>\n",
       "      <td>899</td>\n",
       "      <td>PROG Holdings</td>\n",
       "      <td>2677.9</td>\n",
       "      <td>7.80</td>\n",
       "      <td>243.60</td>\n",
       "      <td>-</td>\n",
       "      <td>1621.8</td>\n",
       "      <td>1586.90</td>\n",
       "      <td>-53</td>\n",
       "      <td>2023</td>\n",
       "    </tr>\n",
       "    <tr>\n",
       "      <th>269</th>\n",
       "      <td>270</td>\n",
       "      <td>Marriott International</td>\n",
       "      <td>13857.0</td>\n",
       "      <td>31.10</td>\n",
       "      <td>1099</td>\n",
       "      <td>-</td>\n",
       "      <td>25553.0</td>\n",
       "      <td>57514.90</td>\n",
       "      <td>23</td>\n",
       "      <td>120000</td>\n",
       "    </tr>\n",
       "  </tbody>\n",
       "</table>\n",
       "</div>"
      ],
      "text/plain": [
       "    rank                    name   revenues  revenue_percent_change profits   \\\n",
       "497   498                    ARKO     6412.6                  88.10   59.20    \n",
       "651   652           Iron Mountain     4491.5                   8.30  450.20    \n",
       "711   712                 GoDaddy     3815.7                     15  242.30    \n",
       "898   899           PROG Holdings     2677.9                   7.80  243.60    \n",
       "269   270  Marriott International    13857.0                  31.10    1099    \n",
       "\n",
       "    profits_percent_change   assets market_value  change_in_rank employees   \n",
       "497                 348.90   2942.3      1133.90             183      11236  \n",
       "651                  31.40  14450.0     16059.50             -47      25000  \n",
       "711                      -   7417.1     14018.70             -15       6611  \n",
       "898                      -   1621.8      1586.90             -53       2023  \n",
       "269                      -  25553.0     57514.90              23     120000  "
      ]
     },
     "execution_count": 13,
     "metadata": {},
     "output_type": "execute_result"
    }
   ],
   "source": [
    "df.sample(5)"
   ]
  },
  {
   "cell_type": "code",
   "execution_count": 12,
   "id": "0009de6d",
   "metadata": {},
   "outputs": [
    {
     "data": {
      "text/plain": [
       "rank                       object\n",
       "name                       object\n",
       "revenues                  float64\n",
       "revenue_percent_change     object\n",
       "profits                    object\n",
       "profits_percent_change     object\n",
       "assets                    float64\n",
       "market_value               object\n",
       "change_in_rank             object\n",
       "employees                  object\n",
       "dtype: object"
      ]
     },
     "execution_count": 12,
     "metadata": {},
     "output_type": "execute_result"
    }
   ],
   "source": [
    "df.dtypes"
   ]
  },
  {
   "cell_type": "code",
   "execution_count": 6,
   "id": "0f20c6cb",
   "metadata": {},
   "outputs": [
    {
     "data": {
      "text/plain": [
       "0      2300000.0\n",
       "1      1608000.0\n",
       "2       154000.0\n",
       "3       258000.0\n",
       "4       350000.0\n",
       "         ...    \n",
       "995        800.0\n",
       "996       4800.0\n",
       "997       1534.0\n",
       "998       4100.0\n",
       "999       7461.0\n",
       "Name: employees , Length: 1000, dtype: float64"
      ]
     },
     "execution_count": 6,
     "metadata": {},
     "output_type": "execute_result"
    }
   ],
   "source": [
    "#changing dtype revenue \n",
    "df['revenues '] = (df['revenues '].replace({'\\$': '', ',': ''}, regex=True)).astype(float)\n",
    "\n",
    "\n",
    "\n",
    "#removing symbols in profits \n",
    "\n",
    "#df['profits '] = df['profits '].str.replace(',', '').str.replace('$', '').astype(int)\n",
    "df['profits '] = df['profits '].replace({'\\$': '', ',': ''}, regex=True)\n",
    "df['profits '] = df['profits '].replace({'\\,': '', ',': ''}, regex=True)\n",
    "df['profits '] = df['profits '].replace( '[(]','-',   regex=True )\n",
    "df['profits '] = df['profits '].replace( {'\\)': '', ',': ''},   regex=True )\n",
    "\n",
    "#changing data type in profits\n",
    "pd.to_numeric(df['profits '], errors='coerce')\n",
    "\n",
    "\n",
    "\n",
    "#removing signs in revenue%\n",
    "df['revenue_percent_change'] = df['revenue_percent_change'].replace({'\\%': '', ',': ''}, regex=True)\n",
    "\n",
    "#changing data type in revenue_percent_change\n",
    "pd.to_numeric(df['revenue_percent_change'], errors = 'coerce')\n",
    "\n",
    "#changing dtype in assets\n",
    "df['assets'] = df['assets'].replace({'\\$': '', ',': ''}, regex=True).astype(float)\n",
    "\n",
    "#removing symbols from market value \n",
    "df['market_value '] = df['market_value '].replace({'\\$': '', ',': ''}, regex=True)\n",
    "\n",
    "#changing dtype in market value\n",
    "pd.to_numeric(df['market_value '], errors = 'coerce')\n",
    "\n",
    "\n",
    "#removing signs in revenue%\n",
    "df['profits_percent_change'] = df['profits_percent_change'].replace({'\\%': '', ',': ''}, regex=True)\n",
    "\n",
    "#changing dtype in profit%\n",
    "pd.to_numeric(df['profits_percent_change'], errors = 'coerce')\n",
    "\n",
    "#changing dtype for employees\n",
    "df['employees '] = df['employees '].replace({'\\,': '', ',': ''}, regex=True)\n",
    "pd.to_numeric(df['employees '], errors = 'coerce')\n",
    "\n"
   ]
  },
  {
   "cell_type": "code",
   "execution_count": 14,
   "id": "e3e57244",
   "metadata": {},
   "outputs": [
    {
     "data": {
      "text/plain": [
       "rank                       object\n",
       "name                       object\n",
       "revenues                  float64\n",
       "revenue_percent_change     object\n",
       "profits                    object\n",
       "profits_percent_change     object\n",
       "assets                    float64\n",
       "market_value               object\n",
       "change_in_rank             object\n",
       "employees                  object\n",
       "dtype: object"
      ]
     },
     "execution_count": 14,
     "metadata": {},
     "output_type": "execute_result"
    }
   ],
   "source": [
    "df.dtypes"
   ]
  },
  {
   "cell_type": "code",
   "execution_count": 16,
   "id": "23ab0205",
   "metadata": {},
   "outputs": [
    {
     "data": {
      "text/html": [
       "<div>\n",
       "<style scoped>\n",
       "    .dataframe tbody tr th:only-of-type {\n",
       "        vertical-align: middle;\n",
       "    }\n",
       "\n",
       "    .dataframe tbody tr th {\n",
       "        vertical-align: top;\n",
       "    }\n",
       "\n",
       "    .dataframe thead th {\n",
       "        text-align: right;\n",
       "    }\n",
       "</style>\n",
       "<table border=\"1\" class=\"dataframe\">\n",
       "  <thead>\n",
       "    <tr style=\"text-align: right;\">\n",
       "      <th></th>\n",
       "      <th>rank</th>\n",
       "      <th>name</th>\n",
       "      <th>revenues</th>\n",
       "      <th>revenue_percent_change</th>\n",
       "      <th>profits</th>\n",
       "      <th>profits_percent_change</th>\n",
       "      <th>assets</th>\n",
       "      <th>market_value</th>\n",
       "      <th>change_in_rank</th>\n",
       "      <th>employees</th>\n",
       "    </tr>\n",
       "  </thead>\n",
       "  <tbody>\n",
       "    <tr>\n",
       "      <th>856</th>\n",
       "      <td>857</td>\n",
       "      <td>Boston Properties</td>\n",
       "      <td>2888.6</td>\n",
       "      <td>4.40</td>\n",
       "      <td>505.20</td>\n",
       "      <td>-42.10</td>\n",
       "      <td>22365.3</td>\n",
       "      <td>20179.90</td>\n",
       "      <td>-67</td>\n",
       "      <td>743</td>\n",
       "    </tr>\n",
       "    <tr>\n",
       "      <th>576</th>\n",
       "      <td>577</td>\n",
       "      <td>Pool</td>\n",
       "      <td>5295.6</td>\n",
       "      <td>34.50</td>\n",
       "      <td>650.60</td>\n",
       "      <td>77.40</td>\n",
       "      <td>3230.1</td>\n",
       "      <td>16967.10</td>\n",
       "      <td>47</td>\n",
       "      <td>5650</td>\n",
       "    </tr>\n",
       "    <tr>\n",
       "      <th>168</th>\n",
       "      <td>169</td>\n",
       "      <td>Carrier Global</td>\n",
       "      <td>20613.0</td>\n",
       "      <td>18.10</td>\n",
       "      <td>1664</td>\n",
       "      <td>-16</td>\n",
       "      <td>26172.0</td>\n",
       "      <td>39127.40</td>\n",
       "      <td>2</td>\n",
       "      <td>58000</td>\n",
       "    </tr>\n",
       "    <tr>\n",
       "      <th>980</th>\n",
       "      <td>981</td>\n",
       "      <td>Aerojet Rocketdyne Holdings</td>\n",
       "      <td>2188.0</td>\n",
       "      <td>5.60</td>\n",
       "      <td>143.70</td>\n",
       "      <td>4.40</td>\n",
       "      <td>2433.6</td>\n",
       "      <td>3169.40</td>\n",
       "      <td>-36</td>\n",
       "      <td>5000</td>\n",
       "    </tr>\n",
       "    <tr>\n",
       "      <th>757</th>\n",
       "      <td>758</td>\n",
       "      <td>Akamai Technologies</td>\n",
       "      <td>3461.2</td>\n",
       "      <td>8.20</td>\n",
       "      <td>651.60</td>\n",
       "      <td>17</td>\n",
       "      <td>8138.7</td>\n",
       "      <td>19210</td>\n",
       "      <td>-47</td>\n",
       "      <td>8700</td>\n",
       "    </tr>\n",
       "  </tbody>\n",
       "</table>\n",
       "</div>"
      ],
      "text/plain": [
       "    rank                         name   revenues  revenue_percent_change  \\\n",
       "856   857            Boston Properties     2888.6                   4.40   \n",
       "576   577                         Pool     5295.6                  34.50   \n",
       "168   169               Carrier Global    20613.0                  18.10   \n",
       "980   981  Aerojet Rocketdyne Holdings     2188.0                   5.60   \n",
       "757   758          Akamai Technologies     3461.2                   8.20   \n",
       "\n",
       "    profits  profits_percent_change   assets market_value  change_in_rank  \\\n",
       "856  505.20                  -42.10  22365.3     20179.90             -67   \n",
       "576  650.60                   77.40   3230.1     16967.10              47   \n",
       "168    1664                     -16  26172.0     39127.40               2   \n",
       "980  143.70                    4.40   2433.6      3169.40             -36   \n",
       "757  651.60                      17   8138.7        19210             -47   \n",
       "\n",
       "    employees   \n",
       "856        743  \n",
       "576       5650  \n",
       "168      58000  \n",
       "980       5000  \n",
       "757       8700  "
      ]
     },
     "execution_count": 16,
     "metadata": {},
     "output_type": "execute_result"
    }
   ],
   "source": [
    "df.sample(5)"
   ]
  },
  {
   "cell_type": "code",
   "execution_count": 17,
   "id": "55dda9e8",
   "metadata": {},
   "outputs": [
    {
     "data": {
      "text/html": [
       "<div>\n",
       "<style scoped>\n",
       "    .dataframe tbody tr th:only-of-type {\n",
       "        vertical-align: middle;\n",
       "    }\n",
       "\n",
       "    .dataframe tbody tr th {\n",
       "        vertical-align: top;\n",
       "    }\n",
       "\n",
       "    .dataframe thead th {\n",
       "        text-align: right;\n",
       "    }\n",
       "</style>\n",
       "<table border=\"1\" class=\"dataframe\">\n",
       "  <thead>\n",
       "    <tr style=\"text-align: right;\">\n",
       "      <th></th>\n",
       "      <th>rank</th>\n",
       "      <th>name</th>\n",
       "      <th>revenues</th>\n",
       "      <th>revenue_percent_change</th>\n",
       "      <th>profits</th>\n",
       "      <th>profits_percent_change</th>\n",
       "      <th>assets</th>\n",
       "      <th>market_value</th>\n",
       "      <th>change_in_rank</th>\n",
       "      <th>employees</th>\n",
       "    </tr>\n",
       "  </thead>\n",
       "  <tbody>\n",
       "    <tr>\n",
       "      <th>0</th>\n",
       "      <td>1</td>\n",
       "      <td>Walmart</td>\n",
       "      <td>572754.0</td>\n",
       "      <td>2.40</td>\n",
       "      <td>13673</td>\n",
       "      <td>1.20</td>\n",
       "      <td>244860.0</td>\n",
       "      <td>409795</td>\n",
       "      <td>-</td>\n",
       "      <td>2300000</td>\n",
       "    </tr>\n",
       "    <tr>\n",
       "      <th>1</th>\n",
       "      <td>2</td>\n",
       "      <td>Amazon</td>\n",
       "      <td>469822.0</td>\n",
       "      <td>21.70</td>\n",
       "      <td>33364</td>\n",
       "      <td>56.40</td>\n",
       "      <td>420549.0</td>\n",
       "      <td>1658807.30</td>\n",
       "      <td>-</td>\n",
       "      <td>1608000</td>\n",
       "    </tr>\n",
       "    <tr>\n",
       "      <th>2</th>\n",
       "      <td>3</td>\n",
       "      <td>Apple</td>\n",
       "      <td>365817.0</td>\n",
       "      <td>33.30</td>\n",
       "      <td>94680</td>\n",
       "      <td>64.90</td>\n",
       "      <td>351002.0</td>\n",
       "      <td>2849537.60</td>\n",
       "      <td>-</td>\n",
       "      <td>154000</td>\n",
       "    </tr>\n",
       "    <tr>\n",
       "      <th>3</th>\n",
       "      <td>4</td>\n",
       "      <td>CVS Health</td>\n",
       "      <td>292111.0</td>\n",
       "      <td>8.70</td>\n",
       "      <td>7910</td>\n",
       "      <td>10.20</td>\n",
       "      <td>232999.0</td>\n",
       "      <td>132839.20</td>\n",
       "      <td>-</td>\n",
       "      <td>258000</td>\n",
       "    </tr>\n",
       "    <tr>\n",
       "      <th>4</th>\n",
       "      <td>5</td>\n",
       "      <td>UnitedHealth Group</td>\n",
       "      <td>287597.0</td>\n",
       "      <td>11.80</td>\n",
       "      <td>17285</td>\n",
       "      <td>12.20</td>\n",
       "      <td>212206.0</td>\n",
       "      <td>479830.30</td>\n",
       "      <td>-</td>\n",
       "      <td>350000</td>\n",
       "    </tr>\n",
       "  </tbody>\n",
       "</table>\n",
       "</div>"
      ],
      "text/plain": [
       "  rank                name   revenues  revenue_percent_change profits   \\\n",
       "0     1             Walmart   572754.0                   2.40   13673    \n",
       "1     2              Amazon   469822.0                  21.70   33364    \n",
       "2     3               Apple   365817.0                  33.30   94680    \n",
       "3     4          CVS Health   292111.0                   8.70    7910    \n",
       "4     5  UnitedHealth Group   287597.0                  11.80   17285    \n",
       "\n",
       "  profits_percent_change    assets market_value  change_in_rank employees   \n",
       "0                   1.20  244860.0       409795               -    2300000  \n",
       "1                  56.40  420549.0   1658807.30               -    1608000  \n",
       "2                  64.90  351002.0   2849537.60               -     154000  \n",
       "3                  10.20  232999.0    132839.20               -     258000  \n",
       "4                  12.20  212206.0    479830.30               -     350000  "
      ]
     },
     "execution_count": 17,
     "metadata": {},
     "output_type": "execute_result"
    }
   ],
   "source": [
    "#subsetting the data\n",
    "subset_df = df.head(10)\n",
    "subset_df.head()"
   ]
  },
  {
   "cell_type": "code",
   "execution_count": 18,
   "id": "4eccd521",
   "metadata": {},
   "outputs": [
    {
     "data": {
      "text/plain": [
       "Text(0.5, 1.0, 'Revenue by Top 10 companies')"
      ]
     },
     "execution_count": 18,
     "metadata": {},
     "output_type": "execute_result"
    },
    {
     "data": {
      "image/png": "[encoded data removed]",
      "text/plain": [
       "<Figure size 1080x720 with 1 Axes>"
      ]
     },
     "metadata": {
      "needs_background": "light"
     },
     "output_type": "display_data"
    }
   ],
   "source": [
    "x = subset_df['name ']\n",
    "y = subset_df ['revenues ']\n",
    "\n",
    "fig = plt.figure(figsize = (15, 10))\n",
    " \n",
    "plt.figure\n",
    "plt.bar(x,y, width = 0.8)\n",
    " \n",
    "plt.xlabel('Companies')\n",
    "plt.title(\"Revenue by Top 10 companies\", fontsize=20, fontweight='bold')\n",
    "\n",
    "\n"
   ]
  },
  {
   "cell_type": "code",
   "execution_count": null,
   "id": "dcc8c930",
   "metadata": {},
   "outputs": [],
   "source": [
    "df.to_csv('/Users/omoyeniogundipe/Library/Mobile Documents/com~apple~CloudDocs/school /Udacity nanodegree/workspace/Cleaned_Fortune_data.csv', index = False)"
   ]
  }
 ],
 "metadata": {
  "kernelspec": {
   "display_name": "Python 3",
   "language": "python",
   "name": "python3"
  },
  "language_info": {
   "codemirror_mode": {
    "name": "ipython",
    "version": 3
   },
   "file_extension": ".py",
   "mimetype": "text/x-python",
   "name": "python",
   "nbconvert_exporter": "python",
   "pygments_lexer": "ipython3",
   "version": "3.8.8"
  }
 },
 "nbformat": 4,
 "nbformat_minor": 5
}
